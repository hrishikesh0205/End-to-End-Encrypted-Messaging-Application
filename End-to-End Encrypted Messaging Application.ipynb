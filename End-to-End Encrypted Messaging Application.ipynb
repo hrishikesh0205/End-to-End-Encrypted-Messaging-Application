{
 "cells": [
  {
   "cell_type": "code",
   "execution_count": 2,
   "id": "a40f4c4b",
   "metadata": {},
   "outputs": [
    {
     "name": "stdout",
     "output_type": "stream",
     "text": [
      "Original message: Hello, My Name is Hrishikesh Pandey\n",
      "Encrypted message: b'gAAAAABkzSznX7rtPKZZtqkuKjo3FKGU2ZXcZC7xuDnHgIMa3Jc_7RBXdD08hq9peXBW1hEhZkGibdXqiUxiayKoIJVn3jzL6FqpRnCa9kA8zA6z05AbD5jgebi_j2PFsR1fK5nC1O7W'\n",
      "Decrypted message: Hello, My Name is Hrishikesh Pandey\n"
     ]
    }
   ],
   "source": [
    "from cryptography.hazmat.primitives import serialization\n",
    "from cryptography.hazmat.primitives.asymmetric import rsa, padding\n",
    "from cryptography.hazmat.primitives import hashes\n",
    "from cryptography.fernet import Fernet\n",
    "import os\n",
    "\n",
    "class User:\n",
    "    def __init__(self, username):\n",
    "        self.username = username\n",
    "        self.private_key = rsa.generate_private_key(\n",
    "            public_exponent=65537,\n",
    "            key_size=2048\n",
    "        )\n",
    "        self.public_key = self.private_key.public_key()\n",
    "\n",
    "    def save_private_key(self, filename, password):\n",
    "        with open(filename, \"wb\") as f:\n",
    "            f.write(self.private_key.private_bytes(\n",
    "                encoding=serialization.Encoding.PEM,\n",
    "                format=serialization.PrivateFormat.PKCS8,\n",
    "                encryption_algorithm=serialization.BestAvailableEncryption(password.encode())\n",
    "            ))\n",
    "\n",
    "    def load_private_key(self, filename, password):\n",
    "        with open(filename, \"rb\") as f:\n",
    "            self.private_key = serialization.load_pem_private_key(\n",
    "                f.read(),\n",
    "                password=password.encode()\n",
    "            )\n",
    "\n",
    "def generate_symmetric_key():\n",
    "    return Fernet.generate_key()\n",
    "\n",
    "def encrypt_message(message, key):\n",
    "    cipher_suite = Fernet(key)\n",
    "    encrypted_message = cipher_suite.encrypt(message.encode())\n",
    "    return encrypted_message\n",
    "\n",
    "def decrypt_message(encrypted_message, key):\n",
    "    cipher_suite = Fernet(key)\n",
    "    decrypted_message = cipher_suite.decrypt(encrypted_message).decode()\n",
    "    return decrypted_message\n",
    "\n",
    "if __name__ == \"__main__\":\n",
    "    user1 = User(\"Alice\")\n",
    "    user2 = User(\"Bob\")\n",
    "\n",
    "    symmetric_key = generate_symmetric_key()\n",
    "\n",
    "    message = \"Hello, My Name is Hrishikesh Pandey\"\n",
    "    encrypted_message = encrypt_message(message, symmetric_key)\n",
    "\n",
    "    decrypted_message = decrypt_message(encrypted_message, symmetric_key)\n",
    "\n",
    "    print(f\"Original message: {message}\")\n",
    "    print(f\"Encrypted message: {encrypted_message}\")\n",
    "    print(f\"Decrypted message: {decrypted_message}\")\n"
   ]
  }
 ],
 "metadata": {
  "kernelspec": {
   "display_name": "Python 3 (ipykernel)",
   "language": "python",
   "name": "python3"
  },
  "language_info": {
   "codemirror_mode": {
    "name": "ipython",
    "version": 3
   },
   "file_extension": ".py",
   "mimetype": "text/x-python",
   "name": "python",
   "nbconvert_exporter": "python",
   "pygments_lexer": "ipython3",
   "version": "3.9.13"
  }
 },
 "nbformat": 4,
 "nbformat_minor": 5
}
